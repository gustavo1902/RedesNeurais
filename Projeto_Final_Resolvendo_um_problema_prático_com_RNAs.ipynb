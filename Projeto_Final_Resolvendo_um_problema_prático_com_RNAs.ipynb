{
  "nbformat": 4,
  "nbformat_minor": 0,
  "metadata": {
    "colab": {
      "provenance": [],
      "include_colab_link": true
    },
    "kernelspec": {
      "name": "python3",
      "display_name": "Python 3"
    },
    "language_info": {
      "name": "python"
    }
  },
  "cells": [
    {
      "cell_type": "markdown",
      "metadata": {
        "id": "view-in-github",
        "colab_type": "text"
      },
      "source": [
        "<a href=\"https://colab.research.google.com/github/gustavo1902/RedesNeurais/blob/main/Projeto_Final_Resolvendo_um_problema_pr%C3%A1tico_com_RNAs.ipynb\" target=\"_parent\"><img src=\"https://colab.research.google.com/assets/colab-badge.svg\" alt=\"Open In Colab\"/></a>"
      ]
    },
    {
      "cell_type": "markdown",
      "source": [
        "# **Atividade 5**\n",
        "\n",
        "Equipe:\n",
        "\n",
        "\n",
        "*   Caio Eduardo Marcondes\n",
        "*   Gustavo Morais Costa\n",
        "\n",
        "**Introdução**\n",
        "\n",
        ">Nessa atividade ...\n",
        "\n"
      ],
      "metadata": {
        "id": "2yStW-YHP32H"
      }
    },
    {
      "cell_type": "markdown",
      "source": [
        "# 1 - Base de dados"
      ],
      "metadata": {
        "id": "fpnT4UGJuQTa"
      }
    },
    {
      "cell_type": "markdown",
      "source": [
        "**Conjunto de dados (nome):** https://www.kaggle.com/datasets/teejmahal20/airline-passenger-satisfaction?resource=download"
      ],
      "metadata": {
        "id": "9FuBapBEuYfq"
      }
    },
    {
      "cell_type": "code",
      "source": [
        "pip install scikit-plot"
      ],
      "metadata": {
        "colab": {
          "base_uri": "https://localhost:8080/"
        },
        "id": "ldujdGzBmjSW",
        "outputId": "538a18fe-07fe-433c-a950-99f1ac9b222d"
      },
      "execution_count": null,
      "outputs": [
        {
          "output_type": "stream",
          "name": "stdout",
          "text": [
            "Looking in indexes: https://pypi.org/simple, https://us-python.pkg.dev/colab-wheels/public/simple/\n",
            "Requirement already satisfied: scikit-plot in /usr/local/lib/python3.8/dist-packages (0.3.7)\n",
            "Requirement already satisfied: matplotlib>=1.4.0 in /usr/local/lib/python3.8/dist-packages (from scikit-plot) (3.2.2)\n",
            "Requirement already satisfied: scipy>=0.9 in /usr/local/lib/python3.8/dist-packages (from scikit-plot) (1.7.3)\n",
            "Requirement already satisfied: scikit-learn>=0.18 in /usr/local/lib/python3.8/dist-packages (from scikit-plot) (1.0.2)\n",
            "Requirement already satisfied: joblib>=0.10 in /usr/local/lib/python3.8/dist-packages (from scikit-plot) (1.2.0)\n",
            "Requirement already satisfied: python-dateutil>=2.1 in /usr/local/lib/python3.8/dist-packages (from matplotlib>=1.4.0->scikit-plot) (2.8.2)\n",
            "Requirement already satisfied: kiwisolver>=1.0.1 in /usr/local/lib/python3.8/dist-packages (from matplotlib>=1.4.0->scikit-plot) (1.4.4)\n",
            "Requirement already satisfied: numpy>=1.11 in /usr/local/lib/python3.8/dist-packages (from matplotlib>=1.4.0->scikit-plot) (1.21.6)\n",
            "Requirement already satisfied: cycler>=0.10 in /usr/local/lib/python3.8/dist-packages (from matplotlib>=1.4.0->scikit-plot) (0.11.0)\n",
            "Requirement already satisfied: pyparsing!=2.0.4,!=2.1.2,!=2.1.6,>=2.0.1 in /usr/local/lib/python3.8/dist-packages (from matplotlib>=1.4.0->scikit-plot) (3.0.9)\n",
            "Requirement already satisfied: threadpoolctl>=2.0.0 in /usr/local/lib/python3.8/dist-packages (from scikit-learn>=0.18->scikit-plot) (3.1.0)\n",
            "Requirement already satisfied: six>=1.5 in /usr/local/lib/python3.8/dist-packages (from python-dateutil>=2.1->matplotlib>=1.4.0->scikit-plot) (1.15.0)\n"
          ]
        }
      ]
    },
    {
      "cell_type": "markdown",
      "source": [
        "Importando Bibliotecas"
      ],
      "metadata": {
        "id": "euHSZi5rXr7H"
      }
    },
    {
      "cell_type": "code",
      "source": [
        "import numpy as np\n",
        "import pandas as pd\n",
        "\n",
        "from keras.models import Sequential\n",
        "from keras.layers import Dense\n",
        "from keras.callbacks import EarlyStopping\n",
        "from sklearn.neural_network import MLPClassifier\n",
        "from sklearn.model_selection import learning_curve\n",
        "from sklearn.preprocessing import StandardScaler\n",
        "from sklearn.model_selection import train_test_split\n",
        "from sklearn.metrics import confusion_matrix\n",
        "from sklearn.metrics import accuracy_score, recall_score, precision_score, f1_score\n",
        "from sklearn.metrics import roc_auc_score, average_precision_score\n",
        "from sklearn.feature_extraction.text import CountVectorizer\n",
        "from sklearn.preprocessing import OneHotEncoder\n",
        "from sklearn.preprocessing import LabelEncoder\n",
        "from sklearn.neural_network import MLPClassifier\n",
        "from sklearn.feature_selection import SelectKBest\n",
        "from sklearn.ensemble import RandomForestClassifier\n",
        "from sklearn.neural_network import MLPClassifier\n",
        "from sklearn.model_selection import learning_curve\n",
        "import scikitplot as skplt\n",
        "from sklearn.metrics import accuracy_score\n",
        "import matplotlib\n",
        "import matplotlib.pyplot as plt\n",
        "import seaborn as sns\n",
        "from sklearn.metrics import roc_curve\n",
        "from sklearn import preprocessing\n",
        "from sklearn.feature_selection import SelectKBest, chi2\n",
        "from sklearn.feature_selection import SelectFromModel\n",
        "from sklearn.ensemble import RandomForestClassifier as rf\n",
        "from sklearn.metrics import accuracy_score, roc_auc_score, classification_report, plot_confusion_matrix, plot_roc_curve\n",
        "from sklearn.linear_model import LogisticRegression\n",
        "from sklearn.naive_bayes import GaussianNB\n",
        "from sklearn.neighbors import KNeighborsClassifier\n",
        "from sklearn.tree import DecisionTreeClassifier\n",
        "from sklearn.tree import DecisionTreeClassifier\n",
        "from sklearn.ensemble import BaggingClassifier\n",
        "import xgboost as xgb\n",
        "from sklearn.ensemble import AdaBoostClassifier\n",
        "from mlxtend.plotting import plot_decision_regions\n",
        "import matplotlib.gridspec as gridspec\n",
        "import itertools\n",
        "import statsmodels.api as sm\n",
        "import time\n",
        "import warnings\n",
        "warnings.filterwarnings(\"ignore\")"
      ],
      "metadata": {
        "id": "wQz4oqsPXrX5"
      },
      "execution_count": null,
      "outputs": []
    },
    {
      "cell_type": "markdown",
      "source": [
        "Importando a Base de Dados"
      ],
      "metadata": {
        "id": "sAPq2bfTQhwB"
      }
    },
    {
      "cell_type": "code",
      "source": [
        "from google.colab import drive\n",
        "drive.mount('/content/drive')"
      ],
      "metadata": {
        "id": "TQCwdnmaQf8D",
        "colab": {
          "base_uri": "https://localhost:8080/"
        },
        "outputId": "5e009193-ea3f-4793-cbac-e1b83da441c0"
      },
      "execution_count": null,
      "outputs": [
        {
          "output_type": "stream",
          "name": "stdout",
          "text": [
            "Drive already mounted at /content/drive; to attempt to forcibly remount, call drive.mount(\"/content/drive\", force_remount=True).\n"
          ]
        }
      ]
    },
    {
      "cell_type": "markdown",
      "source": [
        "Carregando a Base de Dados"
      ],
      "metadata": {
        "id": "hHJvsMGvRAH9"
      }
    },
    {
      "cell_type": "code",
      "source": [
        "test = pd.read_csv(\"/content/drive/MyDrive/Colab Notebooks/ia/archive/test.csv\")\n",
        "train = pd.read_csv(\"/content/drive/MyDrive/Colab Notebooks/ia/archive/train.csv\")\n",
        "\n",
        "#data_set = pd.read_csv(\"/content/test.csv\")\n",
        "#data_set = pd.read_csv(\"/content/train.csv\")\n",
        "\n",
        "#data_set.drop_duplicates(inplace=True)#remove dados duplicados"
      ],
      "metadata": {
        "id": "B_GAE_GZREWT"
      },
      "execution_count": null,
      "outputs": []
    },
    {
      "cell_type": "markdown",
      "source": [
        "# 2 - Verificando o relacionamento entre os dados"
      ],
      "metadata": {
        "id": "zRgJ3xFhuiZN"
      }
    },
    {
      "cell_type": "markdown",
      "source": [
        "Base de dados para treino"
      ],
      "metadata": {
        "id": "Gcd1SkOaKN9M"
      }
    },
    {
      "cell_type": "code",
      "source": [
        "# Exibe as 5 primeiras linhas do dataset\n",
        "print(train.shape)\n",
        "train.head(10)"
      ],
      "metadata": {
        "id": "TT-YXKy7bixU",
        "colab": {
          "base_uri": "https://localhost:8080/",
          "height": 699
        },
        "outputId": "d9a24c5e-5d7d-4ff5-d2b6-458d26059511"
      },
      "execution_count": null,
      "outputs": [
        {
          "output_type": "stream",
          "name": "stdout",
          "text": [
            "(103904, 25)\n"
          ]
        },
        {
          "output_type": "execute_result",
          "data": {
            "text/plain": [
              "   Unnamed: 0      id  Gender      Customer Type  Age   Type of Travel  \\\n",
              "0           0   70172    Male     Loyal Customer   13  Personal Travel   \n",
              "1           1    5047    Male  disloyal Customer   25  Business travel   \n",
              "2           2  110028  Female     Loyal Customer   26  Business travel   \n",
              "3           3   24026  Female     Loyal Customer   25  Business travel   \n",
              "4           4  119299    Male     Loyal Customer   61  Business travel   \n",
              "5           5  111157  Female     Loyal Customer   26  Personal Travel   \n",
              "6           6   82113    Male     Loyal Customer   47  Personal Travel   \n",
              "7           7   96462  Female     Loyal Customer   52  Business travel   \n",
              "8           8   79485  Female     Loyal Customer   41  Business travel   \n",
              "9           9   65725    Male  disloyal Customer   20  Business travel   \n",
              "\n",
              "      Class  Flight Distance  Inflight wifi service  \\\n",
              "0  Eco Plus              460                      3   \n",
              "1  Business              235                      3   \n",
              "2  Business             1142                      2   \n",
              "3  Business              562                      2   \n",
              "4  Business              214                      3   \n",
              "5       Eco             1180                      3   \n",
              "6       Eco             1276                      2   \n",
              "7  Business             2035                      4   \n",
              "8  Business              853                      1   \n",
              "9       Eco             1061                      3   \n",
              "\n",
              "   Departure/Arrival time convenient  ...  Inflight entertainment  \\\n",
              "0                                  4  ...                       5   \n",
              "1                                  2  ...                       1   \n",
              "2                                  2  ...                       5   \n",
              "3                                  5  ...                       2   \n",
              "4                                  3  ...                       3   \n",
              "5                                  4  ...                       1   \n",
              "6                                  4  ...                       2   \n",
              "7                                  3  ...                       5   \n",
              "8                                  2  ...                       1   \n",
              "9                                  3  ...                       2   \n",
              "\n",
              "   On-board service  Leg room service  Baggage handling  Checkin service  \\\n",
              "0                 4                 3                 4                4   \n",
              "1                 1                 5                 3                1   \n",
              "2                 4                 3                 4                4   \n",
              "3                 2                 5                 3                1   \n",
              "4                 3                 4                 4                3   \n",
              "5                 3                 4                 4                4   \n",
              "6                 3                 3                 4                3   \n",
              "7                 5                 5                 5                4   \n",
              "8                 1                 2                 1                4   \n",
              "9                 2                 3                 4                4   \n",
              "\n",
              "   Inflight service  Cleanliness  Departure Delay in Minutes  \\\n",
              "0                 5            5                          25   \n",
              "1                 4            1                           1   \n",
              "2                 4            5                           0   \n",
              "3                 4            2                          11   \n",
              "4                 3            3                           0   \n",
              "5                 4            1                           0   \n",
              "6                 5            2                           9   \n",
              "7                 5            4                           4   \n",
              "8                 1            2                           0   \n",
              "9                 3            2                           0   \n",
              "\n",
              "   Arrival Delay in Minutes             satisfaction  \n",
              "0                      18.0  neutral or dissatisfied  \n",
              "1                       6.0  neutral or dissatisfied  \n",
              "2                       0.0                satisfied  \n",
              "3                       9.0  neutral or dissatisfied  \n",
              "4                       0.0                satisfied  \n",
              "5                       0.0  neutral or dissatisfied  \n",
              "6                      23.0  neutral or dissatisfied  \n",
              "7                       0.0                satisfied  \n",
              "8                       0.0  neutral or dissatisfied  \n",
              "9                       0.0  neutral or dissatisfied  \n",
              "\n",
              "[10 rows x 25 columns]"
            ],
            "text/html": [
              "\n",
              "  <div id=\"df-ae6293a8-c683-4928-bf9a-5f5e57329859\">\n",
              "    <div class=\"colab-df-container\">\n",
              "      <div>\n",
              "<style scoped>\n",
              "    .dataframe tbody tr th:only-of-type {\n",
              "        vertical-align: middle;\n",
              "    }\n",
              "\n",
              "    .dataframe tbody tr th {\n",
              "        vertical-align: top;\n",
              "    }\n",
              "\n",
              "    .dataframe thead th {\n",
              "        text-align: right;\n",
              "    }\n",
              "</style>\n",
              "<table border=\"1\" class=\"dataframe\">\n",
              "  <thead>\n",
              "    <tr style=\"text-align: right;\">\n",
              "      <th></th>\n",
              "      <th>Unnamed: 0</th>\n",
              "      <th>id</th>\n",
              "      <th>Gender</th>\n",
              "      <th>Customer Type</th>\n",
              "      <th>Age</th>\n",
              "      <th>Type of Travel</th>\n",
              "      <th>Class</th>\n",
              "      <th>Flight Distance</th>\n",
              "      <th>Inflight wifi service</th>\n",
              "      <th>Departure/Arrival time convenient</th>\n",
              "      <th>...</th>\n",
              "      <th>Inflight entertainment</th>\n",
              "      <th>On-board service</th>\n",
              "      <th>Leg room service</th>\n",
              "      <th>Baggage handling</th>\n",
              "      <th>Checkin service</th>\n",
              "      <th>Inflight service</th>\n",
              "      <th>Cleanliness</th>\n",
              "      <th>Departure Delay in Minutes</th>\n",
              "      <th>Arrival Delay in Minutes</th>\n",
              "      <th>satisfaction</th>\n",
              "    </tr>\n",
              "  </thead>\n",
              "  <tbody>\n",
              "    <tr>\n",
              "      <th>0</th>\n",
              "      <td>0</td>\n",
              "      <td>70172</td>\n",
              "      <td>Male</td>\n",
              "      <td>Loyal Customer</td>\n",
              "      <td>13</td>\n",
              "      <td>Personal Travel</td>\n",
              "      <td>Eco Plus</td>\n",
              "      <td>460</td>\n",
              "      <td>3</td>\n",
              "      <td>4</td>\n",
              "      <td>...</td>\n",
              "      <td>5</td>\n",
              "      <td>4</td>\n",
              "      <td>3</td>\n",
              "      <td>4</td>\n",
              "      <td>4</td>\n",
              "      <td>5</td>\n",
              "      <td>5</td>\n",
              "      <td>25</td>\n",
              "      <td>18.0</td>\n",
              "      <td>neutral or dissatisfied</td>\n",
              "    </tr>\n",
              "    <tr>\n",
              "      <th>1</th>\n",
              "      <td>1</td>\n",
              "      <td>5047</td>\n",
              "      <td>Male</td>\n",
              "      <td>disloyal Customer</td>\n",
              "      <td>25</td>\n",
              "      <td>Business travel</td>\n",
              "      <td>Business</td>\n",
              "      <td>235</td>\n",
              "      <td>3</td>\n",
              "      <td>2</td>\n",
              "      <td>...</td>\n",
              "      <td>1</td>\n",
              "      <td>1</td>\n",
              "      <td>5</td>\n",
              "      <td>3</td>\n",
              "      <td>1</td>\n",
              "      <td>4</td>\n",
              "      <td>1</td>\n",
              "      <td>1</td>\n",
              "      <td>6.0</td>\n",
              "      <td>neutral or dissatisfied</td>\n",
              "    </tr>\n",
              "    <tr>\n",
              "      <th>2</th>\n",
              "      <td>2</td>\n",
              "      <td>110028</td>\n",
              "      <td>Female</td>\n",
              "      <td>Loyal Customer</td>\n",
              "      <td>26</td>\n",
              "      <td>Business travel</td>\n",
              "      <td>Business</td>\n",
              "      <td>1142</td>\n",
              "      <td>2</td>\n",
              "      <td>2</td>\n",
              "      <td>...</td>\n",
              "      <td>5</td>\n",
              "      <td>4</td>\n",
              "      <td>3</td>\n",
              "      <td>4</td>\n",
              "      <td>4</td>\n",
              "      <td>4</td>\n",
              "      <td>5</td>\n",
              "      <td>0</td>\n",
              "      <td>0.0</td>\n",
              "      <td>satisfied</td>\n",
              "    </tr>\n",
              "    <tr>\n",
              "      <th>3</th>\n",
              "      <td>3</td>\n",
              "      <td>24026</td>\n",
              "      <td>Female</td>\n",
              "      <td>Loyal Customer</td>\n",
              "      <td>25</td>\n",
              "      <td>Business travel</td>\n",
              "      <td>Business</td>\n",
              "      <td>562</td>\n",
              "      <td>2</td>\n",
              "      <td>5</td>\n",
              "      <td>...</td>\n",
              "      <td>2</td>\n",
              "      <td>2</td>\n",
              "      <td>5</td>\n",
              "      <td>3</td>\n",
              "      <td>1</td>\n",
              "      <td>4</td>\n",
              "      <td>2</td>\n",
              "      <td>11</td>\n",
              "      <td>9.0</td>\n",
              "      <td>neutral or dissatisfied</td>\n",
              "    </tr>\n",
              "    <tr>\n",
              "      <th>4</th>\n",
              "      <td>4</td>\n",
              "      <td>119299</td>\n",
              "      <td>Male</td>\n",
              "      <td>Loyal Customer</td>\n",
              "      <td>61</td>\n",
              "      <td>Business travel</td>\n",
              "      <td>Business</td>\n",
              "      <td>214</td>\n",
              "      <td>3</td>\n",
              "      <td>3</td>\n",
              "      <td>...</td>\n",
              "      <td>3</td>\n",
              "      <td>3</td>\n",
              "      <td>4</td>\n",
              "      <td>4</td>\n",
              "      <td>3</td>\n",
              "      <td>3</td>\n",
              "      <td>3</td>\n",
              "      <td>0</td>\n",
              "      <td>0.0</td>\n",
              "      <td>satisfied</td>\n",
              "    </tr>\n",
              "    <tr>\n",
              "      <th>5</th>\n",
              "      <td>5</td>\n",
              "      <td>111157</td>\n",
              "      <td>Female</td>\n",
              "      <td>Loyal Customer</td>\n",
              "      <td>26</td>\n",
              "      <td>Personal Travel</td>\n",
              "      <td>Eco</td>\n",
              "      <td>1180</td>\n",
              "      <td>3</td>\n",
              "      <td>4</td>\n",
              "      <td>...</td>\n",
              "      <td>1</td>\n",
              "      <td>3</td>\n",
              "      <td>4</td>\n",
              "      <td>4</td>\n",
              "      <td>4</td>\n",
              "      <td>4</td>\n",
              "      <td>1</td>\n",
              "      <td>0</td>\n",
              "      <td>0.0</td>\n",
              "      <td>neutral or dissatisfied</td>\n",
              "    </tr>\n",
              "    <tr>\n",
              "      <th>6</th>\n",
              "      <td>6</td>\n",
              "      <td>82113</td>\n",
              "      <td>Male</td>\n",
              "      <td>Loyal Customer</td>\n",
              "      <td>47</td>\n",
              "      <td>Personal Travel</td>\n",
              "      <td>Eco</td>\n",
              "      <td>1276</td>\n",
              "      <td>2</td>\n",
              "      <td>4</td>\n",
              "      <td>...</td>\n",
              "      <td>2</td>\n",
              "      <td>3</td>\n",
              "      <td>3</td>\n",
              "      <td>4</td>\n",
              "      <td>3</td>\n",
              "      <td>5</td>\n",
              "      <td>2</td>\n",
              "      <td>9</td>\n",
              "      <td>23.0</td>\n",
              "      <td>neutral or dissatisfied</td>\n",
              "    </tr>\n",
              "    <tr>\n",
              "      <th>7</th>\n",
              "      <td>7</td>\n",
              "      <td>96462</td>\n",
              "      <td>Female</td>\n",
              "      <td>Loyal Customer</td>\n",
              "      <td>52</td>\n",
              "      <td>Business travel</td>\n",
              "      <td>Business</td>\n",
              "      <td>2035</td>\n",
              "      <td>4</td>\n",
              "      <td>3</td>\n",
              "      <td>...</td>\n",
              "      <td>5</td>\n",
              "      <td>5</td>\n",
              "      <td>5</td>\n",
              "      <td>5</td>\n",
              "      <td>4</td>\n",
              "      <td>5</td>\n",
              "      <td>4</td>\n",
              "      <td>4</td>\n",
              "      <td>0.0</td>\n",
              "      <td>satisfied</td>\n",
              "    </tr>\n",
              "    <tr>\n",
              "      <th>8</th>\n",
              "      <td>8</td>\n",
              "      <td>79485</td>\n",
              "      <td>Female</td>\n",
              "      <td>Loyal Customer</td>\n",
              "      <td>41</td>\n",
              "      <td>Business travel</td>\n",
              "      <td>Business</td>\n",
              "      <td>853</td>\n",
              "      <td>1</td>\n",
              "      <td>2</td>\n",
              "      <td>...</td>\n",
              "      <td>1</td>\n",
              "      <td>1</td>\n",
              "      <td>2</td>\n",
              "      <td>1</td>\n",
              "      <td>4</td>\n",
              "      <td>1</td>\n",
              "      <td>2</td>\n",
              "      <td>0</td>\n",
              "      <td>0.0</td>\n",
              "      <td>neutral or dissatisfied</td>\n",
              "    </tr>\n",
              "    <tr>\n",
              "      <th>9</th>\n",
              "      <td>9</td>\n",
              "      <td>65725</td>\n",
              "      <td>Male</td>\n",
              "      <td>disloyal Customer</td>\n",
              "      <td>20</td>\n",
              "      <td>Business travel</td>\n",
              "      <td>Eco</td>\n",
              "      <td>1061</td>\n",
              "      <td>3</td>\n",
              "      <td>3</td>\n",
              "      <td>...</td>\n",
              "      <td>2</td>\n",
              "      <td>2</td>\n",
              "      <td>3</td>\n",
              "      <td>4</td>\n",
              "      <td>4</td>\n",
              "      <td>3</td>\n",
              "      <td>2</td>\n",
              "      <td>0</td>\n",
              "      <td>0.0</td>\n",
              "      <td>neutral or dissatisfied</td>\n",
              "    </tr>\n",
              "  </tbody>\n",
              "</table>\n",
              "<p>10 rows × 25 columns</p>\n",
              "</div>\n",
              "      <button class=\"colab-df-convert\" onclick=\"convertToInteractive('df-ae6293a8-c683-4928-bf9a-5f5e57329859')\"\n",
              "              title=\"Convert this dataframe to an interactive table.\"\n",
              "              style=\"display:none;\">\n",
              "        \n",
              "  <svg xmlns=\"http://www.w3.org/2000/svg\" height=\"24px\"viewBox=\"0 0 24 24\"\n",
              "       width=\"24px\">\n",
              "    <path d=\"M0 0h24v24H0V0z\" fill=\"none\"/>\n",
              "    <path d=\"M18.56 5.44l.94 2.06.94-2.06 2.06-.94-2.06-.94-.94-2.06-.94 2.06-2.06.94zm-11 1L8.5 8.5l.94-2.06 2.06-.94-2.06-.94L8.5 2.5l-.94 2.06-2.06.94zm10 10l.94 2.06.94-2.06 2.06-.94-2.06-.94-.94-2.06-.94 2.06-2.06.94z\"/><path d=\"M17.41 7.96l-1.37-1.37c-.4-.4-.92-.59-1.43-.59-.52 0-1.04.2-1.43.59L10.3 9.45l-7.72 7.72c-.78.78-.78 2.05 0 2.83L4 21.41c.39.39.9.59 1.41.59.51 0 1.02-.2 1.41-.59l7.78-7.78 2.81-2.81c.8-.78.8-2.07 0-2.86zM5.41 20L4 18.59l7.72-7.72 1.47 1.35L5.41 20z\"/>\n",
              "  </svg>\n",
              "      </button>\n",
              "      \n",
              "  <style>\n",
              "    .colab-df-container {\n",
              "      display:flex;\n",
              "      flex-wrap:wrap;\n",
              "      gap: 12px;\n",
              "    }\n",
              "\n",
              "    .colab-df-convert {\n",
              "      background-color: #E8F0FE;\n",
              "      border: none;\n",
              "      border-radius: 50%;\n",
              "      cursor: pointer;\n",
              "      display: none;\n",
              "      fill: #1967D2;\n",
              "      height: 32px;\n",
              "      padding: 0 0 0 0;\n",
              "      width: 32px;\n",
              "    }\n",
              "\n",
              "    .colab-df-convert:hover {\n",
              "      background-color: #E2EBFA;\n",
              "      box-shadow: 0px 1px 2px rgba(60, 64, 67, 0.3), 0px 1px 3px 1px rgba(60, 64, 67, 0.15);\n",
              "      fill: #174EA6;\n",
              "    }\n",
              "\n",
              "    [theme=dark] .colab-df-convert {\n",
              "      background-color: #3B4455;\n",
              "      fill: #D2E3FC;\n",
              "    }\n",
              "\n",
              "    [theme=dark] .colab-df-convert:hover {\n",
              "      background-color: #434B5C;\n",
              "      box-shadow: 0px 1px 3px 1px rgba(0, 0, 0, 0.15);\n",
              "      filter: drop-shadow(0px 1px 2px rgba(0, 0, 0, 0.3));\n",
              "      fill: #FFFFFF;\n",
              "    }\n",
              "  </style>\n",
              "\n",
              "      <script>\n",
              "        const buttonEl =\n",
              "          document.querySelector('#df-ae6293a8-c683-4928-bf9a-5f5e57329859 button.colab-df-convert');\n",
              "        buttonEl.style.display =\n",
              "          google.colab.kernel.accessAllowed ? 'block' : 'none';\n",
              "\n",
              "        async function convertToInteractive(key) {\n",
              "          const element = document.querySelector('#df-ae6293a8-c683-4928-bf9a-5f5e57329859');\n",
              "          const dataTable =\n",
              "            await google.colab.kernel.invokeFunction('convertToInteractive',\n",
              "                                                     [key], {});\n",
              "          if (!dataTable) return;\n",
              "\n",
              "          const docLinkHtml = 'Like what you see? Visit the ' +\n",
              "            '<a target=\"_blank\" href=https://colab.research.google.com/notebooks/data_table.ipynb>data table notebook</a>'\n",
              "            + ' to learn more about interactive tables.';\n",
              "          element.innerHTML = '';\n",
              "          dataTable['output_type'] = 'display_data';\n",
              "          await google.colab.output.renderOutput(dataTable, element);\n",
              "          const docLink = document.createElement('div');\n",
              "          docLink.innerHTML = docLinkHtml;\n",
              "          element.appendChild(docLink);\n",
              "        }\n",
              "      </script>\n",
              "    </div>\n",
              "  </div>\n",
              "  "
            ]
          },
          "metadata": {},
          "execution_count": 6
        }
      ]
    },
    {
      "cell_type": "code",
      "source": [
        "# \n",
        "train = train.drop('Unnamed: 0', axis=1)\n",
        "train = train.drop('id', axis=1)\n",
        "# \n",
        "train.info()"
      ],
      "metadata": {
        "colab": {
          "base_uri": "https://localhost:8080/"
        },
        "id": "lSh6zqoZwwJf",
        "outputId": "4475b5c9-0cc7-46a5-da45-1c3d39897a98"
      },
      "execution_count": null,
      "outputs": [
        {
          "output_type": "stream",
          "name": "stdout",
          "text": [
            "<class 'pandas.core.frame.DataFrame'>\n",
            "RangeIndex: 103904 entries, 0 to 103903\n",
            "Data columns (total 23 columns):\n",
            " #   Column                             Non-Null Count   Dtype  \n",
            "---  ------                             --------------   -----  \n",
            " 0   Gender                             103904 non-null  object \n",
            " 1   Customer Type                      103904 non-null  object \n",
            " 2   Age                                103904 non-null  int64  \n",
            " 3   Type of Travel                     103904 non-null  object \n",
            " 4   Class                              103904 non-null  object \n",
            " 5   Flight Distance                    103904 non-null  int64  \n",
            " 6   Inflight wifi service              103904 non-null  int64  \n",
            " 7   Departure/Arrival time convenient  103904 non-null  int64  \n",
            " 8   Ease of Online booking             103904 non-null  int64  \n",
            " 9   Gate location                      103904 non-null  int64  \n",
            " 10  Food and drink                     103904 non-null  int64  \n",
            " 11  Online boarding                    103904 non-null  int64  \n",
            " 12  Seat comfort                       103904 non-null  int64  \n",
            " 13  Inflight entertainment             103904 non-null  int64  \n",
            " 14  On-board service                   103904 non-null  int64  \n",
            " 15  Leg room service                   103904 non-null  int64  \n",
            " 16  Baggage handling                   103904 non-null  int64  \n",
            " 17  Checkin service                    103904 non-null  int64  \n",
            " 18  Inflight service                   103904 non-null  int64  \n",
            " 19  Cleanliness                        103904 non-null  int64  \n",
            " 20  Departure Delay in Minutes         103904 non-null  int64  \n",
            " 21  Arrival Delay in Minutes           103594 non-null  float64\n",
            " 22  satisfaction                       103904 non-null  object \n",
            "dtypes: float64(1), int64(17), object(5)\n",
            "memory usage: 18.2+ MB\n"
          ]
        }
      ]
    },
    {
      "cell_type": "markdown",
      "source": [
        "Base de dados para teste"
      ],
      "metadata": {
        "id": "vxs8qS1pw-qi"
      }
    },
    {
      "cell_type": "code",
      "source": [
        "print(test.shape)\n",
        "test.head(10)"
      ],
      "metadata": {
        "colab": {
          "base_uri": "https://localhost:8080/",
          "height": 699
        },
        "id": "hAxeoFPWw9dA",
        "outputId": "267f4ae5-f7d5-4005-f15a-eb60d35465b7"
      },
      "execution_count": null,
      "outputs": [
        {
          "output_type": "stream",
          "name": "stdout",
          "text": [
            "(25976, 25)\n"
          ]
        },
        {
          "output_type": "execute_result",
          "data": {
            "text/plain": [
              "   Unnamed: 0     id  Gender      Customer Type  Age   Type of Travel  \\\n",
              "0           0  19556  Female     Loyal Customer   52  Business travel   \n",
              "1           1  90035  Female     Loyal Customer   36  Business travel   \n",
              "2           2  12360    Male  disloyal Customer   20  Business travel   \n",
              "3           3  77959    Male     Loyal Customer   44  Business travel   \n",
              "4           4  36875  Female     Loyal Customer   49  Business travel   \n",
              "5           5  39177    Male     Loyal Customer   16  Business travel   \n",
              "6           6  79433  Female     Loyal Customer   77  Business travel   \n",
              "7           7  97286  Female     Loyal Customer   43  Business travel   \n",
              "8           8  27508    Male     Loyal Customer   47  Business travel   \n",
              "9           9  62482  Female     Loyal Customer   46  Business travel   \n",
              "\n",
              "      Class  Flight Distance  Inflight wifi service  \\\n",
              "0       Eco              160                      5   \n",
              "1  Business             2863                      1   \n",
              "2       Eco              192                      2   \n",
              "3  Business             3377                      0   \n",
              "4       Eco             1182                      2   \n",
              "5       Eco              311                      3   \n",
              "6  Business             3987                      5   \n",
              "7  Business             2556                      2   \n",
              "8       Eco              556                      5   \n",
              "9  Business             1744                      2   \n",
              "\n",
              "   Departure/Arrival time convenient  ...  Inflight entertainment  \\\n",
              "0                                  4  ...                       5   \n",
              "1                                  1  ...                       4   \n",
              "2                                  0  ...                       2   \n",
              "3                                  0  ...                       1   \n",
              "4                                  3  ...                       2   \n",
              "5                                  3  ...                       5   \n",
              "6                                  5  ...                       5   \n",
              "7                                  2  ...                       4   \n",
              "8                                  2  ...                       5   \n",
              "9                                  2  ...                       4   \n",
              "\n",
              "   On-board service  Leg room service  Baggage handling  Checkin service  \\\n",
              "0                 5                 5                 5                2   \n",
              "1                 4                 4                 4                3   \n",
              "2                 4                 1                 3                2   \n",
              "3                 1                 1                 1                3   \n",
              "4                 2                 2                 2                4   \n",
              "5                 4                 3                 1                1   \n",
              "6                 5                 5                 5                4   \n",
              "7                 4                 4                 4                5   \n",
              "8                 2                 2                 5                3   \n",
              "9                 4                 4                 4                5   \n",
              "\n",
              "   Inflight service  Cleanliness  Departure Delay in Minutes  \\\n",
              "0                 5            5                          50   \n",
              "1                 4            5                           0   \n",
              "2                 2            2                           0   \n",
              "3                 1            4                           0   \n",
              "4                 2            4                           0   \n",
              "5                 2            5                           0   \n",
              "6                 5            3                           0   \n",
              "7                 4            3                          77   \n",
              "8                 3            5                           1   \n",
              "9                 4            4                          28   \n",
              "\n",
              "   Arrival Delay in Minutes             satisfaction  \n",
              "0                      44.0                satisfied  \n",
              "1                       0.0                satisfied  \n",
              "2                       0.0  neutral or dissatisfied  \n",
              "3                       6.0                satisfied  \n",
              "4                      20.0                satisfied  \n",
              "5                       0.0                satisfied  \n",
              "6                       0.0                satisfied  \n",
              "7                      65.0                satisfied  \n",
              "8                       0.0                satisfied  \n",
              "9                      14.0                satisfied  \n",
              "\n",
              "[10 rows x 25 columns]"
            ],
            "text/html": [
              "\n",
              "  <div id=\"df-be64fce9-9a6a-45fb-a142-77ed2a53ea71\">\n",
              "    <div class=\"colab-df-container\">\n",
              "      <div>\n",
              "<style scoped>\n",
              "    .dataframe tbody tr th:only-of-type {\n",
              "        vertical-align: middle;\n",
              "    }\n",
              "\n",
              "    .dataframe tbody tr th {\n",
              "        vertical-align: top;\n",
              "    }\n",
              "\n",
              "    .dataframe thead th {\n",
              "        text-align: right;\n",
              "    }\n",
              "</style>\n",
              "<table border=\"1\" class=\"dataframe\">\n",
              "  <thead>\n",
              "    <tr style=\"text-align: right;\">\n",
              "      <th></th>\n",
              "      <th>Unnamed: 0</th>\n",
              "      <th>id</th>\n",
              "      <th>Gender</th>\n",
              "      <th>Customer Type</th>\n",
              "      <th>Age</th>\n",
              "      <th>Type of Travel</th>\n",
              "      <th>Class</th>\n",
              "      <th>Flight Distance</th>\n",
              "      <th>Inflight wifi service</th>\n",
              "      <th>Departure/Arrival time convenient</th>\n",
              "      <th>...</th>\n",
              "      <th>Inflight entertainment</th>\n",
              "      <th>On-board service</th>\n",
              "      <th>Leg room service</th>\n",
              "      <th>Baggage handling</th>\n",
              "      <th>Checkin service</th>\n",
              "      <th>Inflight service</th>\n",
              "      <th>Cleanliness</th>\n",
              "      <th>Departure Delay in Minutes</th>\n",
              "      <th>Arrival Delay in Minutes</th>\n",
              "      <th>satisfaction</th>\n",
              "    </tr>\n",
              "  </thead>\n",
              "  <tbody>\n",
              "    <tr>\n",
              "      <th>0</th>\n",
              "      <td>0</td>\n",
              "      <td>19556</td>\n",
              "      <td>Female</td>\n",
              "      <td>Loyal Customer</td>\n",
              "      <td>52</td>\n",
              "      <td>Business travel</td>\n",
              "      <td>Eco</td>\n",
              "      <td>160</td>\n",
              "      <td>5</td>\n",
              "      <td>4</td>\n",
              "      <td>...</td>\n",
              "      <td>5</td>\n",
              "      <td>5</td>\n",
              "      <td>5</td>\n",
              "      <td>5</td>\n",
              "      <td>2</td>\n",
              "      <td>5</td>\n",
              "      <td>5</td>\n",
              "      <td>50</td>\n",
              "      <td>44.0</td>\n",
              "      <td>satisfied</td>\n",
              "    </tr>\n",
              "    <tr>\n",
              "      <th>1</th>\n",
              "      <td>1</td>\n",
              "      <td>90035</td>\n",
              "      <td>Female</td>\n",
              "      <td>Loyal Customer</td>\n",
              "      <td>36</td>\n",
              "      <td>Business travel</td>\n",
              "      <td>Business</td>\n",
              "      <td>2863</td>\n",
              "      <td>1</td>\n",
              "      <td>1</td>\n",
              "      <td>...</td>\n",
              "      <td>4</td>\n",
              "      <td>4</td>\n",
              "      <td>4</td>\n",
              "      <td>4</td>\n",
              "      <td>3</td>\n",
              "      <td>4</td>\n",
              "      <td>5</td>\n",
              "      <td>0</td>\n",
              "      <td>0.0</td>\n",
              "      <td>satisfied</td>\n",
              "    </tr>\n",
              "    <tr>\n",
              "      <th>2</th>\n",
              "      <td>2</td>\n",
              "      <td>12360</td>\n",
              "      <td>Male</td>\n",
              "      <td>disloyal Customer</td>\n",
              "      <td>20</td>\n",
              "      <td>Business travel</td>\n",
              "      <td>Eco</td>\n",
              "      <td>192</td>\n",
              "      <td>2</td>\n",
              "      <td>0</td>\n",
              "      <td>...</td>\n",
              "      <td>2</td>\n",
              "      <td>4</td>\n",
              "      <td>1</td>\n",
              "      <td>3</td>\n",
              "      <td>2</td>\n",
              "      <td>2</td>\n",
              "      <td>2</td>\n",
              "      <td>0</td>\n",
              "      <td>0.0</td>\n",
              "      <td>neutral or dissatisfied</td>\n",
              "    </tr>\n",
              "    <tr>\n",
              "      <th>3</th>\n",
              "      <td>3</td>\n",
              "      <td>77959</td>\n",
              "      <td>Male</td>\n",
              "      <td>Loyal Customer</td>\n",
              "      <td>44</td>\n",
              "      <td>Business travel</td>\n",
              "      <td>Business</td>\n",
              "      <td>3377</td>\n",
              "      <td>0</td>\n",
              "      <td>0</td>\n",
              "      <td>...</td>\n",
              "      <td>1</td>\n",
              "      <td>1</td>\n",
              "      <td>1</td>\n",
              "      <td>1</td>\n",
              "      <td>3</td>\n",
              "      <td>1</td>\n",
              "      <td>4</td>\n",
              "      <td>0</td>\n",
              "      <td>6.0</td>\n",
              "      <td>satisfied</td>\n",
              "    </tr>\n",
              "    <tr>\n",
              "      <th>4</th>\n",
              "      <td>4</td>\n",
              "      <td>36875</td>\n",
              "      <td>Female</td>\n",
              "      <td>Loyal Customer</td>\n",
              "      <td>49</td>\n",
              "      <td>Business travel</td>\n",
              "      <td>Eco</td>\n",
              "      <td>1182</td>\n",
              "      <td>2</td>\n",
              "      <td>3</td>\n",
              "      <td>...</td>\n",
              "      <td>2</td>\n",
              "      <td>2</td>\n",
              "      <td>2</td>\n",
              "      <td>2</td>\n",
              "      <td>4</td>\n",
              "      <td>2</td>\n",
              "      <td>4</td>\n",
              "      <td>0</td>\n",
              "      <td>20.0</td>\n",
              "      <td>satisfied</td>\n",
              "    </tr>\n",
              "    <tr>\n",
              "      <th>5</th>\n",
              "      <td>5</td>\n",
              "      <td>39177</td>\n",
              "      <td>Male</td>\n",
              "      <td>Loyal Customer</td>\n",
              "      <td>16</td>\n",
              "      <td>Business travel</td>\n",
              "      <td>Eco</td>\n",
              "      <td>311</td>\n",
              "      <td>3</td>\n",
              "      <td>3</td>\n",
              "      <td>...</td>\n",
              "      <td>5</td>\n",
              "      <td>4</td>\n",
              "      <td>3</td>\n",
              "      <td>1</td>\n",
              "      <td>1</td>\n",
              "      <td>2</td>\n",
              "      <td>5</td>\n",
              "      <td>0</td>\n",
              "      <td>0.0</td>\n",
              "      <td>satisfied</td>\n",
              "    </tr>\n",
              "    <tr>\n",
              "      <th>6</th>\n",
              "      <td>6</td>\n",
              "      <td>79433</td>\n",
              "      <td>Female</td>\n",
              "      <td>Loyal Customer</td>\n",
              "      <td>77</td>\n",
              "      <td>Business travel</td>\n",
              "      <td>Business</td>\n",
              "      <td>3987</td>\n",
              "      <td>5</td>\n",
              "      <td>5</td>\n",
              "      <td>...</td>\n",
              "      <td>5</td>\n",
              "      <td>5</td>\n",
              "      <td>5</td>\n",
              "      <td>5</td>\n",
              "      <td>4</td>\n",
              "      <td>5</td>\n",
              "      <td>3</td>\n",
              "      <td>0</td>\n",
              "      <td>0.0</td>\n",
              "      <td>satisfied</td>\n",
              "    </tr>\n",
              "    <tr>\n",
              "      <th>7</th>\n",
              "      <td>7</td>\n",
              "      <td>97286</td>\n",
              "      <td>Female</td>\n",
              "      <td>Loyal Customer</td>\n",
              "      <td>43</td>\n",
              "      <td>Business travel</td>\n",
              "      <td>Business</td>\n",
              "      <td>2556</td>\n",
              "      <td>2</td>\n",
              "      <td>2</td>\n",
              "      <td>...</td>\n",
              "      <td>4</td>\n",
              "      <td>4</td>\n",
              "      <td>4</td>\n",
              "      <td>4</td>\n",
              "      <td>5</td>\n",
              "      <td>4</td>\n",
              "      <td>3</td>\n",
              "      <td>77</td>\n",
              "      <td>65.0</td>\n",
              "      <td>satisfied</td>\n",
              "    </tr>\n",
              "    <tr>\n",
              "      <th>8</th>\n",
              "      <td>8</td>\n",
              "      <td>27508</td>\n",
              "      <td>Male</td>\n",
              "      <td>Loyal Customer</td>\n",
              "      <td>47</td>\n",
              "      <td>Business travel</td>\n",
              "      <td>Eco</td>\n",
              "      <td>556</td>\n",
              "      <td>5</td>\n",
              "      <td>2</td>\n",
              "      <td>...</td>\n",
              "      <td>5</td>\n",
              "      <td>2</td>\n",
              "      <td>2</td>\n",
              "      <td>5</td>\n",
              "      <td>3</td>\n",
              "      <td>3</td>\n",
              "      <td>5</td>\n",
              "      <td>1</td>\n",
              "      <td>0.0</td>\n",
              "      <td>satisfied</td>\n",
              "    </tr>\n",
              "    <tr>\n",
              "      <th>9</th>\n",
              "      <td>9</td>\n",
              "      <td>62482</td>\n",
              "      <td>Female</td>\n",
              "      <td>Loyal Customer</td>\n",
              "      <td>46</td>\n",
              "      <td>Business travel</td>\n",
              "      <td>Business</td>\n",
              "      <td>1744</td>\n",
              "      <td>2</td>\n",
              "      <td>2</td>\n",
              "      <td>...</td>\n",
              "      <td>4</td>\n",
              "      <td>4</td>\n",
              "      <td>4</td>\n",
              "      <td>4</td>\n",
              "      <td>5</td>\n",
              "      <td>4</td>\n",
              "      <td>4</td>\n",
              "      <td>28</td>\n",
              "      <td>14.0</td>\n",
              "      <td>satisfied</td>\n",
              "    </tr>\n",
              "  </tbody>\n",
              "</table>\n",
              "<p>10 rows × 25 columns</p>\n",
              "</div>\n",
              "      <button class=\"colab-df-convert\" onclick=\"convertToInteractive('df-be64fce9-9a6a-45fb-a142-77ed2a53ea71')\"\n",
              "              title=\"Convert this dataframe to an interactive table.\"\n",
              "              style=\"display:none;\">\n",
              "        \n",
              "  <svg xmlns=\"http://www.w3.org/2000/svg\" height=\"24px\"viewBox=\"0 0 24 24\"\n",
              "       width=\"24px\">\n",
              "    <path d=\"M0 0h24v24H0V0z\" fill=\"none\"/>\n",
              "    <path d=\"M18.56 5.44l.94 2.06.94-2.06 2.06-.94-2.06-.94-.94-2.06-.94 2.06-2.06.94zm-11 1L8.5 8.5l.94-2.06 2.06-.94-2.06-.94L8.5 2.5l-.94 2.06-2.06.94zm10 10l.94 2.06.94-2.06 2.06-.94-2.06-.94-.94-2.06-.94 2.06-2.06.94z\"/><path d=\"M17.41 7.96l-1.37-1.37c-.4-.4-.92-.59-1.43-.59-.52 0-1.04.2-1.43.59L10.3 9.45l-7.72 7.72c-.78.78-.78 2.05 0 2.83L4 21.41c.39.39.9.59 1.41.59.51 0 1.02-.2 1.41-.59l7.78-7.78 2.81-2.81c.8-.78.8-2.07 0-2.86zM5.41 20L4 18.59l7.72-7.72 1.47 1.35L5.41 20z\"/>\n",
              "  </svg>\n",
              "      </button>\n",
              "      \n",
              "  <style>\n",
              "    .colab-df-container {\n",
              "      display:flex;\n",
              "      flex-wrap:wrap;\n",
              "      gap: 12px;\n",
              "    }\n",
              "\n",
              "    .colab-df-convert {\n",
              "      background-color: #E8F0FE;\n",
              "      border: none;\n",
              "      border-radius: 50%;\n",
              "      cursor: pointer;\n",
              "      display: none;\n",
              "      fill: #1967D2;\n",
              "      height: 32px;\n",
              "      padding: 0 0 0 0;\n",
              "      width: 32px;\n",
              "    }\n",
              "\n",
              "    .colab-df-convert:hover {\n",
              "      background-color: #E2EBFA;\n",
              "      box-shadow: 0px 1px 2px rgba(60, 64, 67, 0.3), 0px 1px 3px 1px rgba(60, 64, 67, 0.15);\n",
              "      fill: #174EA6;\n",
              "    }\n",
              "\n",
              "    [theme=dark] .colab-df-convert {\n",
              "      background-color: #3B4455;\n",
              "      fill: #D2E3FC;\n",
              "    }\n",
              "\n",
              "    [theme=dark] .colab-df-convert:hover {\n",
              "      background-color: #434B5C;\n",
              "      box-shadow: 0px 1px 3px 1px rgba(0, 0, 0, 0.15);\n",
              "      filter: drop-shadow(0px 1px 2px rgba(0, 0, 0, 0.3));\n",
              "      fill: #FFFFFF;\n",
              "    }\n",
              "  </style>\n",
              "\n",
              "      <script>\n",
              "        const buttonEl =\n",
              "          document.querySelector('#df-be64fce9-9a6a-45fb-a142-77ed2a53ea71 button.colab-df-convert');\n",
              "        buttonEl.style.display =\n",
              "          google.colab.kernel.accessAllowed ? 'block' : 'none';\n",
              "\n",
              "        async function convertToInteractive(key) {\n",
              "          const element = document.querySelector('#df-be64fce9-9a6a-45fb-a142-77ed2a53ea71');\n",
              "          const dataTable =\n",
              "            await google.colab.kernel.invokeFunction('convertToInteractive',\n",
              "                                                     [key], {});\n",
              "          if (!dataTable) return;\n",
              "\n",
              "          const docLinkHtml = 'Like what you see? Visit the ' +\n",
              "            '<a target=\"_blank\" href=https://colab.research.google.com/notebooks/data_table.ipynb>data table notebook</a>'\n",
              "            + ' to learn more about interactive tables.';\n",
              "          element.innerHTML = '';\n",
              "          dataTable['output_type'] = 'display_data';\n",
              "          await google.colab.output.renderOutput(dataTable, element);\n",
              "          const docLink = document.createElement('div');\n",
              "          docLink.innerHTML = docLinkHtml;\n",
              "          element.appendChild(docLink);\n",
              "        }\n",
              "      </script>\n",
              "    </div>\n",
              "  </div>\n",
              "  "
            ]
          },
          "metadata": {},
          "execution_count": 8
        }
      ]
    },
    {
      "cell_type": "code",
      "source": [
        "test = test.drop('Unnamed: 0', axis=1)\n",
        "test = test.drop('id', axis=1)\n",
        "\n",
        "test.info()"
      ],
      "metadata": {
        "colab": {
          "base_uri": "https://localhost:8080/"
        },
        "id": "T2iy5sFHxIVf",
        "outputId": "204f1141-3b8c-4b32-aa35-e8a83b5c53e8"
      },
      "execution_count": null,
      "outputs": [
        {
          "output_type": "stream",
          "name": "stdout",
          "text": [
            "<class 'pandas.core.frame.DataFrame'>\n",
            "RangeIndex: 25976 entries, 0 to 25975\n",
            "Data columns (total 23 columns):\n",
            " #   Column                             Non-Null Count  Dtype  \n",
            "---  ------                             --------------  -----  \n",
            " 0   Gender                             25976 non-null  object \n",
            " 1   Customer Type                      25976 non-null  object \n",
            " 2   Age                                25976 non-null  int64  \n",
            " 3   Type of Travel                     25976 non-null  object \n",
            " 4   Class                              25976 non-null  object \n",
            " 5   Flight Distance                    25976 non-null  int64  \n",
            " 6   Inflight wifi service              25976 non-null  int64  \n",
            " 7   Departure/Arrival time convenient  25976 non-null  int64  \n",
            " 8   Ease of Online booking             25976 non-null  int64  \n",
            " 9   Gate location                      25976 non-null  int64  \n",
            " 10  Food and drink                     25976 non-null  int64  \n",
            " 11  Online boarding                    25976 non-null  int64  \n",
            " 12  Seat comfort                       25976 non-null  int64  \n",
            " 13  Inflight entertainment             25976 non-null  int64  \n",
            " 14  On-board service                   25976 non-null  int64  \n",
            " 15  Leg room service                   25976 non-null  int64  \n",
            " 16  Baggage handling                   25976 non-null  int64  \n",
            " 17  Checkin service                    25976 non-null  int64  \n",
            " 18  Inflight service                   25976 non-null  int64  \n",
            " 19  Cleanliness                        25976 non-null  int64  \n",
            " 20  Departure Delay in Minutes         25976 non-null  int64  \n",
            " 21  Arrival Delay in Minutes           25893 non-null  float64\n",
            " 22  satisfaction                       25976 non-null  object \n",
            "dtypes: float64(1), int64(17), object(5)\n",
            "memory usage: 4.6+ MB\n"
          ]
        }
      ]
    },
    {
      "cell_type": "code",
      "source": [
        "train.columns = [c.replace(' ', '_') for c in train.columns]\n",
        "test.columns = [c.replace(' ', '_') for c in test.columns]"
      ],
      "metadata": {
        "id": "FtxNFtztxM-b"
      },
      "execution_count": null,
      "outputs": []
    },
    {
      "cell_type": "code",
      "source": [
        "#substituindo strings por binário\n",
        "train['satisfaction'].replace({'neutral or dissatisfied': 0, 'satisfied': 1},inplace = True)\n",
        "test['satisfaction'].replace({'neutral or dissatisfied': 0, 'satisfied': 1},inplace = True)"
      ],
      "metadata": {
        "id": "Wg68VYAzxW-Y"
      },
      "execution_count": null,
      "outputs": []
    },
    {
      "cell_type": "code",
      "source": [
        "#está balanceado?\n",
        "fig = plt.figure(figsize = (8,5))\n",
        "train.satisfaction.value_counts(normalize = True).plot(kind='bar', color= ['darkorange','steelblue'], alpha = 0.9, rot=0)\n",
        "plt.title('Satisfaction Indicator (0) and (1) in the Dataset')\n",
        "plt.show()"
      ],
      "metadata": {
        "colab": {
          "base_uri": "https://localhost:8080/",
          "height": 336
        },
        "id": "Oqk7vtAUxj37",
        "outputId": "4c26cc5c-648e-4265-9a77-77723a864bd6"
      },
      "execution_count": null,
      "outputs": [
        {
          "output_type": "display_data",
          "data": {
            "text/plain": [
              "<Figure size 576x360 with 1 Axes>"
            ],
            "image/png": "[encoded data removed]"
          },
          "metadata": {
            "needs_background": "light"
          }
        }
      ]
    },
    {
      "cell_type": "code",
      "source": [
        "total = train.isnull().sum().sort_values(ascending=False)\n",
        "percent = (train.isnull().sum()/train.isnull().count()).sort_values(ascending=False)\n",
        "missing = pd.concat([total, percent], axis=1, keys=['Total', 'Percent'])\n",
        "missing.head()"
      ],
      "metadata": {
        "colab": {
          "base_uri": "https://localhost:8080/",
          "height": 206
        },
        "id": "EpNAA6qCxryv",
        "outputId": "d7a2ed0e-33c2-49ea-abf7-9240d4c7dbba"
      },
      "execution_count": null,
      "outputs": [
        {
          "output_type": "execute_result",
          "data": {
            "text/plain": [
              "                            Total   Percent\n",
              "Arrival_Delay_in_Minutes      310  0.002984\n",
              "Gender                          0  0.000000\n",
              "Seat_comfort                    0  0.000000\n",
              "Departure_Delay_in_Minutes      0  0.000000\n",
              "Cleanliness                     0  0.000000"
            ],
            "text/html": [
              "\n",
              "  <div id=\"df-8f0d6148-f749-43a7-918d-982c8d6f5054\">\n",
              "    <div class=\"colab-df-container\">\n",
              "      <div>\n",
              "<style scoped>\n",
              "    .dataframe tbody tr th:only-of-type {\n",
              "        vertical-align: middle;\n",
              "    }\n",
              "\n",
              "    .dataframe tbody tr th {\n",
              "        vertical-align: top;\n",
              "    }\n",
              "\n",
              "    .dataframe thead th {\n",
              "        text-align: right;\n",
              "    }\n",
              "</style>\n",
              "<table border=\"1\" class=\"dataframe\">\n",
              "  <thead>\n",
              "    <tr style=\"text-align: right;\">\n",
              "      <th></th>\n",
              "      <th>Total</th>\n",
              "      <th>Percent</th>\n",
              "    </tr>\n",
              "  </thead>\n",
              "  <tbody>\n",
              "    <tr>\n",
              "      <th>Arrival_Delay_in_Minutes</th>\n",
              "      <td>310</td>\n",
              "      <td>0.002984</td>\n",
              "    </tr>\n",
              "    <tr>\n",
              "      <th>Gender</th>\n",
              "      <td>0</td>\n",
              "      <td>0.000000</td>\n",
              "    </tr>\n",
              "    <tr>\n",
              "      <th>Seat_comfort</th>\n",
              "      <td>0</td>\n",
              "      <td>0.000000</td>\n",
              "    </tr>\n",
              "    <tr>\n",
              "      <th>Departure_Delay_in_Minutes</th>\n",
              "      <td>0</td>\n",
              "      <td>0.000000</td>\n",
              "    </tr>\n",
              "    <tr>\n",
              "      <th>Cleanliness</th>\n",
              "      <td>0</td>\n",
              "      <td>0.000000</td>\n",
              "    </tr>\n",
              "  </tbody>\n",
              "</table>\n",
              "</div>\n",
              "      <button class=\"colab-df-convert\" onclick=\"convertToInteractive('df-8f0d6148-f749-43a7-918d-982c8d6f5054')\"\n",
              "              title=\"Convert this dataframe to an interactive table.\"\n",
              "              style=\"display:none;\">\n",
              "        \n",
              "  <svg xmlns=\"http://www.w3.org/2000/svg\" height=\"24px\"viewBox=\"0 0 24 24\"\n",
              "       width=\"24px\">\n",
              "    <path d=\"M0 0h24v24H0V0z\" fill=\"none\"/>\n",
              "    <path d=\"M18.56 5.44l.94 2.06.94-2.06 2.06-.94-2.06-.94-.94-2.06-.94 2.06-2.06.94zm-11 1L8.5 8.5l.94-2.06 2.06-.94-2.06-.94L8.5 2.5l-.94 2.06-2.06.94zm10 10l.94 2.06.94-2.06 2.06-.94-2.06-.94-.94-2.06-.94 2.06-2.06.94z\"/><path d=\"M17.41 7.96l-1.37-1.37c-.4-.4-.92-.59-1.43-.59-.52 0-1.04.2-1.43.59L10.3 9.45l-7.72 7.72c-.78.78-.78 2.05 0 2.83L4 21.41c.39.39.9.59 1.41.59.51 0 1.02-.2 1.41-.59l7.78-7.78 2.81-2.81c.8-.78.8-2.07 0-2.86zM5.41 20L4 18.59l7.72-7.72 1.47 1.35L5.41 20z\"/>\n",
              "  </svg>\n",
              "      </button>\n",
              "      \n",
              "  <style>\n",
              "    .colab-df-container {\n",
              "      display:flex;\n",
              "      flex-wrap:wrap;\n",
              "      gap: 12px;\n",
              "    }\n",
              "\n",
              "    .colab-df-convert {\n",
              "      background-color: #E8F0FE;\n",
              "      border: none;\n",
              "      border-radius: 50%;\n",
              "      cursor: pointer;\n",
              "      display: none;\n",
              "      fill: #1967D2;\n",
              "      height: 32px;\n",
              "      padding: 0 0 0 0;\n",
              "      width: 32px;\n",
              "    }\n",
              "\n",
              "    .colab-df-convert:hover {\n",
              "      background-color: #E2EBFA;\n",
              "      box-shadow: 0px 1px 2px rgba(60, 64, 67, 0.3), 0px 1px 3px 1px rgba(60, 64, 67, 0.15);\n",
              "      fill: #174EA6;\n",
              "    }\n",
              "\n",
              "    [theme=dark] .colab-df-convert {\n",
              "      background-color: #3B4455;\n",
              "      fill: #D2E3FC;\n",
              "    }\n",
              "\n",
              "    [theme=dark] .colab-df-convert:hover {\n",
              "      background-color: #434B5C;\n",
              "      box-shadow: 0px 1px 3px 1px rgba(0, 0, 0, 0.15);\n",
              "      filter: drop-shadow(0px 1px 2px rgba(0, 0, 0, 0.3));\n",
              "      fill: #FFFFFF;\n",
              "    }\n",
              "  </style>\n",
              "\n",
              "      <script>\n",
              "        const buttonEl =\n",
              "          document.querySelector('#df-8f0d6148-f749-43a7-918d-982c8d6f5054 button.colab-df-convert');\n",
              "        buttonEl.style.display =\n",
              "          google.colab.kernel.accessAllowed ? 'block' : 'none';\n",
              "\n",
              "        async function convertToInteractive(key) {\n",
              "          const element = document.querySelector('#df-8f0d6148-f749-43a7-918d-982c8d6f5054');\n",
              "          const dataTable =\n",
              "            await google.colab.kernel.invokeFunction('convertToInteractive',\n",
              "                                                     [key], {});\n",
              "          if (!dataTable) return;\n",
              "\n",
              "          const docLinkHtml = 'Like what you see? Visit the ' +\n",
              "            '<a target=\"_blank\" href=https://colab.research.google.com/notebooks/data_table.ipynb>data table notebook</a>'\n",
              "            + ' to learn more about interactive tables.';\n",
              "          element.innerHTML = '';\n",
              "          dataTable['output_type'] = 'display_data';\n",
              "          await google.colab.output.renderOutput(dataTable, element);\n",
              "          const docLink = document.createElement('div');\n",
              "          docLink.innerHTML = docLinkHtml;\n",
              "          element.appendChild(docLink);\n",
              "        }\n",
              "      </script>\n",
              "    </div>\n",
              "  </div>\n",
              "  "
            ]
          },
          "metadata": {},
          "execution_count": 13
        }
      ]
    },
    {
      "cell_type": "code",
      "source": [
        "# Imputing missing value with mean - Train and Test\n",
        "train['Arrival_Delay_in_Minutes'] = train['Arrival_Delay_in_Minutes'].fillna(train['Arrival_Delay_in_Minutes'].mean())\n",
        "test['Arrival_Delay_in_Minutes'] = test['Arrival_Delay_in_Minutes'].fillna(test['Arrival_Delay_in_Minutes'].mean())"
      ],
      "metadata": {
        "id": "q3Q3ThEmxzxT"
      },
      "execution_count": null,
      "outputs": []
    },
    {
      "cell_type": "code",
      "source": [
        "train.select_dtypes(include=['object']).columns"
      ],
      "metadata": {
        "colab": {
          "base_uri": "https://localhost:8080/"
        },
        "id": "r5YbRwnCx1HN",
        "outputId": "c76e3f8e-d9c4-4a70-d343-c1116d7fbc29"
      },
      "execution_count": null,
      "outputs": [
        {
          "output_type": "execute_result",
          "data": {
            "text/plain": [
              "Index(['Gender', 'Customer_Type', 'Type_of_Travel', 'Class'], dtype='object')"
            ]
          },
          "metadata": {},
          "execution_count": 15
        }
      ]
    },
    {
      "cell_type": "code",
      "source": [
        "train['Gender'] = train['Gender'].fillna(train['Gender'].mode()[0])\n",
        "train['Customer_Type'] = train['Customer_Type'].fillna(train['Customer_Type'].mode()[0])\n",
        "train['Type_of_Travel'] = train['Type_of_Travel'].fillna(train['Type_of_Travel'].mode()[0])\n",
        "train['Class'] = train['Class'].fillna(train['Class'].mode()[0])\n",
        "\n",
        "test['Gender'] = test['Gender'].fillna(test['Gender'].mode()[0])\n",
        "test['Customer_Type'] = test['Customer_Type'].fillna(test['Customer_Type'].mode()[0])\n",
        "test['Type_of_Travel'] = test['Type_of_Travel'].fillna(test['Type_of_Travel'].mode()[0])\n",
        "test['Class'] = test['Class'].fillna(test['Class'].mode()[0])"
      ],
      "metadata": {
        "id": "iOuX3b6Kx6pa"
      },
      "execution_count": null,
      "outputs": []
    },
    {
      "cell_type": "code",
      "source": [
        "with sns.axes_style(style='ticks'):\n",
        "    g = sns.catplot(\"satisfaction\", col=\"Gender\", col_wrap=2, data=train, kind=\"count\", height=2.5, aspect=1.5)  \n",
        "    g = sns.catplot(\"satisfaction\", col=\"Customer_Type\", col_wrap=2, data=train, kind=\"count\", height=2.5, aspect=1.5)"
      ],
      "metadata": {
        "colab": {
          "base_uri": "https://localhost:8080/",
          "height": 361
        },
        "id": "hRbzH-FDx7n7",
        "outputId": "4a79824e-a2b3-438f-a410-3ead9ed5baf7"
      },
      "execution_count": null,
      "outputs": [
        {
          "output_type": "display_data",
          "data": {
            "text/plain": [
              "<Figure size 540x180 with 2 Axes>"
            ],
            "image/png": "[encoded data removed]"
          },
          "metadata": {}
        },
        {
          "output_type": "display_data",
          "data": {
            "text/plain": [
              "<Figure size 540x180 with 2 Axes>"
            ],
            "image/png": "[encoded data removed]"
          },
          "metadata": {}
        }
      ]
    },
    {
      "cell_type": "markdown",
      "source": [
        "# 3 - Definindo os conjuntos de treinamento e teste"
      ],
      "metadata": {
        "id": "1cnUwWXLvFB2"
      }
    },
    {
      "cell_type": "code",
      "source": [
        "from sklearn.model_selection import train_test_split\n",
        "from sklearn.preprocessing import LabelEncoder\n",
        "\n",
        "# Dividindo os dados em conjunto de treinamento e teste\n",
        "X = train.drop(['satisfaction'], axis=1)\n",
        "y = train['satisfaction']\n",
        "X_train, X_test, y_train, y_test = train_test_split(X, y, test_size=0.2, random_state=42)\n",
        "\n",
        "# Codificando as variáveis categóricas\n",
        "le = LabelEncoder()\n",
        "X_train['Gender'] = le.fit_transform(X_train['Gender'])\n",
        "X_train['Customer_Type'] = le.fit_transform(X_train['Customer_Type'])\n",
        "X_train['Type_of_Travel'] = le.fit_transform(X_train['Type_of_Travel'])\n",
        "X_train['Class'] = le.fit_transform(X_train['Class'])\n",
        "\n",
        "X_test['Gender'] = le.fit_transform(X_test['Gender'])\n",
        "X_test['Customer_Type'] = le.fit_transform(X_test['Customer_Type'])\n",
        "X_test['Type_of_Travel'] = le.fit_transform(X_test['Type_of_Travel'])\n",
        "X_test['Class'] = le.fit_transform(X_test['Class'])"
      ],
      "metadata": {
        "id": "Eae9RCJVWDnj"
      },
      "execution_count": null,
      "outputs": []
    },
    {
      "cell_type": "markdown",
      "source": [
        "# 4 - Implementação da RNA, variações e avaliações"
      ],
      "metadata": {
        "id": "vbaKoIXlynGN"
      }
    },
    {
      "cell_type": "code",
      "source": [
        "# Treinando a RNA\n",
        "mlp = MLPClassifier(hidden_layer_sizes=(10, 10, 10), max_iter=1000)\n",
        "mlp.fit(X_train, y_train)\n",
        "\n",
        "# Realizando previsões e avaliando a precisão\n",
        "predict_train = mlp.predict(X_train)\n",
        "predict_test = mlp.predict(X_test)\n",
        "y_pred = mlp.predict(X_test)\n",
        "accuracy = accuracy_score(y_test, y_pred)\n",
        "print(\"Accuracy: \", accuracy)"
      ],
      "metadata": {
        "id": "R1sfwahHyzfB",
        "colab": {
          "base_uri": "https://localhost:8080/"
        },
        "outputId": "9fc2f98d-f2f5-41c5-b5dd-6ce7c1fde2f3"
      },
      "execution_count": 26,
      "outputs": [
        {
          "output_type": "stream",
          "name": "stdout",
          "text": [
            "Accuracy:  0.9384052740484096\n"
          ]
        }
      ]
    },
    {
      "cell_type": "code",
      "source": [
        "#adaptar\n",
        "\n",
        "#--------------------------------------------------\n",
        "# Uma vez que as previsões são geradas, podemos avaliar o desempenho do modelo. \n",
        "#--------------------------------------------------\n",
        "#Aslinhas de código abaixo imprimem a matriz de confusão e os \n",
        "#resultados do relatório de confusão nos dados de treinamento.\n",
        "#--------------------------------------------------\n",
        "#Desempenho conjunto de treinamento\n",
        "cm = confusion_matrix(y_train,predict_train)\n",
        "sns.heatmap(cm,annot=True,fmt=\"d\") \n",
        "print(classification_report(y_train,predict_train))"
      ],
      "metadata": {
        "colab": {
          "base_uri": "https://localhost:8080/",
          "height": 424
        },
        "id": "LM66uQn-3MNB",
        "outputId": "32afc860-38c6-403e-eef8-9fb1865d729b"
      },
      "execution_count": 28,
      "outputs": [
        {
          "output_type": "stream",
          "name": "stdout",
          "text": [
            "              precision    recall  f1-score   support\n",
            "\n",
            "           0       0.93      0.96      0.95     47166\n",
            "           1       0.95      0.91      0.93     35957\n",
            "\n",
            "    accuracy                           0.94     83123\n",
            "   macro avg       0.94      0.94      0.94     83123\n",
            "weighted avg       0.94      0.94      0.94     83123\n",
            "\n"
          ]
        },
        {
          "output_type": "display_data",
          "data": {
            "text/plain": [
              "<Figure size 432x288 with 2 Axes>"
            ],
            "image/png": "[encoded data removed]"
          },
          "metadata": {
            "needs_background": "light"
          }
        }
      ]
    },
    {
      "cell_type": "code",
      "source": [
        "#adaptar\n",
        "\n",
        "#--------------------------------------------------\n",
        "#As linhas de código abaixo imprimem a matriz de confusão e os \n",
        "#resultados do relatório de confusão nos dados de treinamento.\n",
        "#--------------------------------------------------\n",
        "#Desempenho conjunto de Teste\n",
        "cm = confusion_matrix(y_test,predict_test)\n",
        "sns.heatmap(cm,annot=True,fmt=\"d\")\n",
        "print(classification_report(y_test,predict_test))"
      ],
      "metadata": {
        "colab": {
          "base_uri": "https://localhost:8080/",
          "height": 421
        },
        "id": "6f_CCJ3h38Oh",
        "outputId": "9eab2ef0-45ff-450c-ce8d-acd023c00334"
      },
      "execution_count": 29,
      "outputs": [
        {
          "output_type": "stream",
          "name": "stdout",
          "text": [
            "              precision    recall  f1-score   support\n",
            "\n",
            "           0       0.93      0.96      0.95     11713\n",
            "           1       0.95      0.91      0.93      9068\n",
            "\n",
            "    accuracy                           0.94     20781\n",
            "   macro avg       0.94      0.94      0.94     20781\n",
            "weighted avg       0.94      0.94      0.94     20781\n",
            "\n"
          ]
        },
        {
          "output_type": "display_data",
          "data": {
            "text/plain": [
              "<Figure size 432x288 with 2 Axes>"
            ],
            "image/png": "[encoded data removed]"
          },
          "metadata": {
            "needs_background": "light"
          }
        }
      ]
    },
    {
      "cell_type": "markdown",
      "source": [
        "Curva de aprendizado"
      ],
      "metadata": {
        "id": "fOKk690J4dTE"
      }
    },
    {
      "cell_type": "code",
      "source": [
        "# Cria o objeto do modelo\n",
        "mlp = MLPClassifier()\n",
        "\n",
        "# Define os valores para o parâmetro de treinamento (tamanho do conjunto de treinamento)\n",
        "train_sizes, train_scores, test_scores = learning_curve(mlp, X_train, y_train, cv=5)\n",
        "\n",
        "# Gráfico\n",
        "plt.plot(train_sizes, train_scores.mean(axis=1), label=\"Training score\")\n",
        "plt.plot(train_sizes, test_scores.mean(axis=1), label=\"Cross-validation score\")\n",
        "plt.legend()\n",
        "plt.show()"
      ],
      "metadata": {
        "id": "8c7_iPUu3snZ",
        "colab": {
          "base_uri": "https://localhost:8080/",
          "height": 265
        },
        "outputId": "f1342a5f-c51c-47f3-8389-b83d5870a5a7"
      },
      "execution_count": 25,
      "outputs": [
        {
          "output_type": "display_data",
          "data": {
            "text/plain": [
              "<Figure size 432x288 with 1 Axes>"
            ],
            "image/png": "[encoded data removed]"
          },
          "metadata": {
            "needs_background": "light"
          }
        }
      ]
    },
    {
      "cell_type": "markdown",
      "source": [
        "Relação entre a taxa de verdadeiros positivos e a taxa de falsos positivos"
      ],
      "metadata": {
        "id": "XcjfJiBc6sBh"
      }
    },
    {
      "cell_type": "code",
      "source": [
        "# Obtém as previsões e a probabilidade de cada classe\n",
        "mlp.fit(X_train, y_train)\n",
        "y_pred_proba = mlp.predict_proba(X_test)[:, 1]\n",
        "\n",
        "# Obtém as métricas da curva ROC\n",
        "fpr, tpr, thresholds = roc_curve(y_test, y_pred_proba)\n",
        "\n",
        "# Gráfico\n",
        "plt.plot(fpr, tpr)\n",
        "plt.xlabel(\"Taxa positiva falsa\")\n",
        "plt.ylabel(\"Taxa positiva verdadeira\")\n",
        "plt.show()"
      ],
      "metadata": {
        "id": "E7dO5zVE7EKQ",
        "colab": {
          "base_uri": "https://localhost:8080/",
          "height": 279
        },
        "outputId": "b92e1866-8cbb-4a28-f176-d38fbf9d720a"
      },
      "execution_count": 27,
      "outputs": [
        {
          "output_type": "display_data",
          "data": {
            "text/plain": [
              "<Figure size 432x288 with 1 Axes>"
            ],
            "image/png": "[encoded data removed]"
          },
          "metadata": {
            "needs_background": "light"
          }
        }
      ]
    },
    {
      "cell_type": "code",
      "source": [
        "# Variando a RNA ex.1\n",
        "# Cria o objeto do modelo\n",
        "mlp1 = MLPClassifier(hidden_layer_sizes=(50,50), activation='relu', solver='adam', max_iter=1000)\n",
        "mlp1.fit(X_train, y_train)\n",
        "\n",
        "# Realizando previsões e avaliando a precisão\n",
        "predict1_train = mlp1.predict(X_train)\n",
        "predict1_test = mlp1.predict(X_test)\n",
        "y_pred1 = mlp1.predict(X_test)\n",
        "accuracy1 = accuracy_score(y_test, y_pred)\n",
        "print(\"Accuracy: \", accuracy1)"
      ],
      "metadata": {
        "id": "nwr_OAHBN842",
        "colab": {
          "base_uri": "https://localhost:8080/"
        },
        "outputId": "220d50f3-85dc-40a5-e66a-7eff9fe7f9dc"
      },
      "execution_count": 35,
      "outputs": [
        {
          "output_type": "stream",
          "name": "stdout",
          "text": [
            "Accuracy:  0.9384052740484096\n"
          ]
        }
      ]
    },
    {
      "cell_type": "code",
      "source": [
        "#adaptar\n",
        "\n",
        "#--------------------------------------------------\n",
        "# Uma vez que as previsões são geradas, podemos avaliar o desempenho do modelo. \n",
        "#--------------------------------------------------\n",
        "#Aslinhas de código abaixo imprimem a matriz de confusão e os \n",
        "#resultados do relatório de confusão nos dados de treinamento.\n",
        "#--------------------------------------------------\n",
        "#Desempenho conjunto de treinamento\n",
        "cm = confusion_matrix(y_train,predict1_train)\n",
        "sns.heatmap(cm,annot=True,fmt=\"d\") \n",
        "print(classification_report(y_train,predict1_train))"
      ],
      "metadata": {
        "colab": {
          "base_uri": "https://localhost:8080/",
          "height": 421
        },
        "id": "rySQE1n84HdW",
        "outputId": "b79a9e7f-395c-4d33-a8fb-61d12af6ec11"
      },
      "execution_count": 33,
      "outputs": [
        {
          "output_type": "stream",
          "name": "stdout",
          "text": [
            "              precision    recall  f1-score   support\n",
            "\n",
            "           0       0.93      0.98      0.96     47166\n",
            "           1       0.97      0.91      0.94     35957\n",
            "\n",
            "    accuracy                           0.95     83123\n",
            "   macro avg       0.95      0.94      0.95     83123\n",
            "weighted avg       0.95      0.95      0.95     83123\n",
            "\n"
          ]
        },
        {
          "output_type": "display_data",
          "data": {
            "text/plain": [
              "<Figure size 432x288 with 2 Axes>"
            ],
            "image/png": "[encoded data removed]"
          },
          "metadata": {
            "needs_background": "light"
          }
        }
      ]
    },
    {
      "cell_type": "code",
      "source": [
        "#Variando a RNA ex.2\n",
        "# Cria o objeto do modelo\n",
        "mlp2 = MLPClassifier()\n",
        "\n",
        "mlp2 = MLPClassifier(hidden_layer_sizes=(20), activation='relu', solver='adam', max_iter=1000)\n",
        "mlp2.fit(X_train, y_train)\n",
        "\n",
        "# Realizando previsões e avaliando a precisão\n",
        "predict2_train = mlp2.predict(X_train)\n",
        "predict2_test = mlp2.predict(X_test)\n",
        "y_pred2 = mlp2.predict(X_test)\n",
        "accuracy2 = accuracy_score(y_test, y_pred)\n",
        "print(\"Accuracy: \", accuracy2)"
      ],
      "metadata": {
        "colab": {
          "base_uri": "https://localhost:8080/"
        },
        "id": "eXNcVgCU8rMv",
        "outputId": "f0e5d59d-2c6d-4e7c-e2bc-225dd256703a"
      },
      "execution_count": 36,
      "outputs": [
        {
          "output_type": "stream",
          "name": "stdout",
          "text": [
            "Accuracy:  0.9384052740484096\n"
          ]
        }
      ]
    },
    {
      "cell_type": "code",
      "source": [
        "#adaptar\n",
        "\n",
        "#--------------------------------------------------\n",
        "# Uma vez que as previsões são geradas, podemos avaliar o desempenho do modelo. \n",
        "#--------------------------------------------------\n",
        "#Aslinhas de código abaixo imprimem a matriz de confusão e os \n",
        "#resultados do relatório de confusão nos dados de treinamento.\n",
        "#--------------------------------------------------\n",
        "#Desempenho conjunto de treinamento\n",
        "cm = confusion_matrix(y_train,predict2_train)\n",
        "sns.heatmap(cm,annot=True,fmt=\"d\") \n",
        "print(classification_report(y_train,predict2_train))"
      ],
      "metadata": {
        "colab": {
          "base_uri": "https://localhost:8080/",
          "height": 424
        },
        "id": "hJ8Wfn5z4JD9",
        "outputId": "2f78de00-1ecc-43a3-dac1-e44b9754521c"
      },
      "execution_count": 31,
      "outputs": [
        {
          "output_type": "stream",
          "name": "stdout",
          "text": [
            "              precision    recall  f1-score   support\n",
            "\n",
            "           0       0.93      0.96      0.95     47166\n",
            "           1       0.95      0.91      0.93     35957\n",
            "\n",
            "    accuracy                           0.94     83123\n",
            "   macro avg       0.94      0.94      0.94     83123\n",
            "weighted avg       0.94      0.94      0.94     83123\n",
            "\n"
          ]
        },
        {
          "output_type": "display_data",
          "data": {
            "text/plain": [
              "<Figure size 432x288 with 2 Axes>"
            ],
            "image/png": "[encoded data removed]"
          },
          "metadata": {
            "needs_background": "light"
          }
        }
      ]
    },
    {
      "cell_type": "markdown",
      "source": [
        "# 5 - Avaliando o impacto das mudanças realizadas nos parâmetros, na etapa anterior, no desempenho da RNA no problema escolhido."
      ],
      "metadata": {
        "id": "E36-iYt58eZp"
      }
    },
    {
      "cell_type": "code",
      "source": [
        "# avaliar o desempenho do modelo nos conjuntos de treinamento e teste\n",
        "train_loss, test_loss = model.evaluate(X_train, y_train), model.evaluate(X_test, y_test)\n",
        "print(\"Treinamento: \", train_loss, \"Teste: \", test_loss)\n",
        "\n",
        "# plotar a evolução da perda durante o treinamento\n",
        "plt.plot(history.history['loss'], label='Perda - Treinamento')\n",
        "plt.plot(history.history['val_loss'], label='Perda - Validação')\n",
        "plt.legend()\n",
        "plt.show()"
      ],
      "metadata": {
        "id": "M9Y473FYwjz4"
      },
      "execution_count": null,
      "outputs": []
    },
    {
      "cell_type": "markdown",
      "source": [
        "Alguns pontos importantes para a implementação do projeto de final da disciplina de Redes Neurais Artificiais:\n",
        "<p>0) Explicar o problema e o significado de cada variável, bem como à sua importância para o problema;\n",
        "<p>1) Deixar o conjunto de teste separado desde o início das análises (recomendo separar o arquivo original em 2: um para treino e outro para teste); (Feito)\n",
        "<p>2) Comentar o desempenho dos modelos individuais e explicar a razão dos melhores modelos terem se destacado em relação aos demais;\n",
        "<p>3) Fazer o ensemble dos modelos e verificar o comportamento do modelo combinado;\n",
        "<p>4) Fazer uma tabela explicando como os parâmetros foram alterados para gerar os diversos modelos e configurações de RNAs;\n",
        "Att,"
      ],
      "metadata": {
        "id": "HUdQabigW1Ca"
      }
    },
    {
      "cell_type": "code",
      "source": [],
      "metadata": {
        "id": "7r3mVHFq8N4R"
      },
      "execution_count": null,
      "outputs": []
    },
    {
      "cell_type": "markdown",
      "source": [
        "**Conclusão**\n",
        "\n",
        ">Após ..."
      ],
      "metadata": {
        "id": "srG_BWMa3bk_"
      }
    },
    {
      "cell_type": "markdown",
      "source": [
        "**Referências**\n",
        "\n",
        ">ABNT ..."
      ],
      "metadata": {
        "id": "4xitL9kH3imj"
      }
    }
  ]
}